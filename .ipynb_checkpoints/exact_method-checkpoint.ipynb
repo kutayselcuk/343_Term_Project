{
 "cells": [
  {
   "cell_type": "code",
   "execution_count": 1,
   "metadata": {},
   "outputs": [],
   "source": [
    "import gurobipy as gp\n",
    "from gurobipy import GRB\n",
    "import pandas as pd\n",
    "import joblib\n",
    "import numpy as np\n",
    "import csv\n",
    "import time"
   ]
  },
  {
   "cell_type": "code",
   "execution_count": 2,
   "metadata": {},
   "outputs": [
    {
     "name": "stdout",
     "output_type": "stream",
     "text": [
      "sum:  1476\n",
      "sumsum:  9412945\n",
      "(50,)\n",
      "Set parameter Username\n"
     ]
    },
    {
     "ename": "GurobiError",
     "evalue": "License expired 2021-10-04",
     "output_type": "error",
     "traceback": [
      "\u001b[1;31m---------------------------------------------------------------------------\u001b[0m",
      "\u001b[1;31mGurobiError\u001b[0m                               Traceback (most recent call last)",
      "\u001b[1;32m<ipython-input-2-a5f2216a21e5>\u001b[0m in \u001b[0;36m<module>\u001b[1;34m\u001b[0m\n\u001b[0;32m      7\u001b[0m \u001b[0mn\u001b[0m \u001b[1;33m=\u001b[0m \u001b[0mlen\u001b[0m\u001b[1;33m(\u001b[0m\u001b[0mvalues\u001b[0m\u001b[1;33m)\u001b[0m\u001b[1;33m\u001b[0m\u001b[1;33m\u001b[0m\u001b[0m\n\u001b[0;32m      8\u001b[0m \u001b[0mprint\u001b[0m\u001b[1;33m(\u001b[0m\u001b[0mvalues\u001b[0m\u001b[1;33m.\u001b[0m\u001b[0mshape\u001b[0m\u001b[1;33m)\u001b[0m\u001b[1;33m\u001b[0m\u001b[1;33m\u001b[0m\u001b[0m\n\u001b[1;32m----> 9\u001b[1;33m \u001b[0mm\u001b[0m \u001b[1;33m=\u001b[0m \u001b[0mgp\u001b[0m\u001b[1;33m.\u001b[0m\u001b[0mModel\u001b[0m\u001b[1;33m(\u001b[0m\u001b[1;34m'IE343_Term_Project_22_Fall'\u001b[0m\u001b[1;33m)\u001b[0m\u001b[1;33m\u001b[0m\u001b[1;33m\u001b[0m\u001b[0m\n\u001b[0m\u001b[0;32m     10\u001b[0m \u001b[0mm\u001b[0m\u001b[1;33m.\u001b[0m\u001b[0msetParam\u001b[0m\u001b[1;33m(\u001b[0m\u001b[1;34m'MIPGap'\u001b[0m\u001b[1;33m,\u001b[0m \u001b[1;36m0.01\u001b[0m\u001b[1;33m)\u001b[0m\u001b[1;33m\u001b[0m\u001b[1;33m\u001b[0m\u001b[0m\n\u001b[0;32m     11\u001b[0m \u001b[0mm\u001b[0m\u001b[1;33m.\u001b[0m\u001b[0msetParam\u001b[0m\u001b[1;33m(\u001b[0m\u001b[1;34m'TimeLimit'\u001b[0m\u001b[1;33m,\u001b[0m \u001b[1;36m30\u001b[0m\u001b[1;33m*\u001b[0m\u001b[1;36m60\u001b[0m\u001b[1;33m)\u001b[0m\u001b[1;33m\u001b[0m\u001b[1;33m\u001b[0m\u001b[0m\n",
      "\u001b[1;32msrc\\gurobipy\\model.pxi\u001b[0m in \u001b[0;36mgurobipy.Model.__init__\u001b[1;34m()\u001b[0m\n",
      "\u001b[1;32msrc\\gurobipy\\gurobi.pxi\u001b[0m in \u001b[0;36mgurobipy.gurobi._getdefaultenv\u001b[1;34m()\u001b[0m\n",
      "\u001b[1;32msrc\\gurobipy\\env.pxi\u001b[0m in \u001b[0;36mgurobipy.Env.__init__\u001b[1;34m()\u001b[0m\n",
      "\u001b[1;31mGurobiError\u001b[0m: License expired 2021-10-04"
     ]
    }
   ],
   "source": [
    "start = time.time()\n",
    "df=pd.read_csv(\"term_project_value_data.csv\")\n",
    "weights = df['duration_ms']\n",
    "values = df['popularity']\n",
    "print(\"sum: \", sum(values))\n",
    "print(\"sumsum: \", sum(weights))\n",
    "n = len(values)\n",
    "print(values.shape)\n",
    "m = gp.Model('IE343_Term_Project_22_Fall')\n",
    "m.setParam('MIPGap', 0.01)\n",
    "m.setParam('TimeLimit', 30*60)\n",
    "\n",
    "\n",
    "#1 if item i is included in the knapsack\n",
    "X = m.addVars(n, vtype=GRB.BINARY, name='X')\n",
    "\n",
    "obj =gp.quicksum(values[i]*X[i] for i in range(n))#-(0.02*gp.quicksum(300000-weights[i]*X[i] for i in range(n)))\n",
    "m.setObjective(obj, GRB.MAXIMIZE)\n",
    "m.addConstr(gp.quicksum(weights[i]*X[i] for i in range(n)) <= 1800000 ,\"cons1\")\n",
    "m.optimize()\n",
    "print('Obj: %g' % m.ObjVal)\n",
    "end = time.time()\n",
    "print(\"runtime: \", end-start)\n",
    "k=m.getAttr('x', X)\n",
    "x_list = np.zeros(shape = (n))\n",
    "for i in range(n):\n",
    "        x_list[i] = X[i].X\n",
    "print(x_list)\n"
   ]
  },
  {
   "cell_type": "code",
   "execution_count": null,
   "metadata": {},
   "outputs": [],
   "source": []
  }
 ],
 "metadata": {
  "kernelspec": {
   "display_name": "Python 3",
   "language": "python",
   "name": "python3"
  },
  "language_info": {
   "codemirror_mode": {
    "name": "ipython",
    "version": 3
   },
   "file_extension": ".py",
   "mimetype": "text/x-python",
   "name": "python",
   "nbconvert_exporter": "python",
   "pygments_lexer": "ipython3",
   "version": "3.8.3"
  },
  "vscode": {
   "interpreter": {
    "hash": "beedbe2faf2f7048d727558d0bc3221e7eba2a0b921cac4d4771b2feb8f74b30"
   }
  }
 },
 "nbformat": 4,
 "nbformat_minor": 2
}
